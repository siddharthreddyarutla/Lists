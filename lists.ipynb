{
  "nbformat": 4,
  "nbformat_minor": 0,
  "metadata": {
    "colab": {
      "name": "lists.ipynb",
      "provenance": [],
      "collapsed_sections": []
    },
    "kernelspec": {
      "name": "python3",
      "display_name": "Python 3"
    }
  },
  "cells": [
    {
      "cell_type": "markdown",
      "metadata": {
        "id": "wB8KK19wgMq5"
      },
      "source": [
        "#LISTS"
      ]
    },
    {
      "cell_type": "code",
      "metadata": {
        "id": "tJ1-CmHiAUT7"
      },
      "source": [
        "users = ['val', 'bob', 'mia', 'ron', 'ned']"
      ],
      "execution_count": null,
      "outputs": []
    },
    {
      "cell_type": "code",
      "metadata": {
        "id": "exCH7vI3Cin9",
        "colab": {
          "base_uri": "https://localhost:8080/",
          "height": 35
        },
        "outputId": "6fc96a1d-45f2-49e8-d1e9-ce642094ade6"
      },
      "source": [
        "users[0]"
      ],
      "execution_count": null,
      "outputs": [
        {
          "output_type": "execute_result",
          "data": {
            "application/vnd.google.colaboratory.intrinsic+json": {
              "type": "string"
            },
            "text/plain": [
              "'val'"
            ]
          },
          "metadata": {
            "tags": []
          },
          "execution_count": 2
        }
      ]
    },
    {
      "cell_type": "code",
      "metadata": {
        "id": "2vqn2dmaCnhI",
        "colab": {
          "base_uri": "https://localhost:8080/",
          "height": 35
        },
        "outputId": "d2121d5f-1a0e-4b5d-8635-a49fdeea2cc5"
      },
      "source": [
        "users[-1]"
      ],
      "execution_count": null,
      "outputs": [
        {
          "output_type": "execute_result",
          "data": {
            "application/vnd.google.colaboratory.intrinsic+json": {
              "type": "string"
            },
            "text/plain": [
              "'ned'"
            ]
          },
          "metadata": {
            "tags": []
          },
          "execution_count": 3
        }
      ]
    },
    {
      "cell_type": "code",
      "metadata": {
        "id": "HPkxyPi-Cst-"
      },
      "source": [
        "users = ['val', 'bob', 'mia', 'ron', 'ned','need','chjsbsac']"
      ],
      "execution_count": null,
      "outputs": []
    },
    {
      "cell_type": "code",
      "metadata": {
        "id": "WvYXWKMPCxdb",
        "colab": {
          "base_uri": "https://localhost:8080/",
          "height": 35
        },
        "outputId": "08503933-af0a-47f3-e762-dd13ece66398"
      },
      "source": [
        "users[-1]"
      ],
      "execution_count": null,
      "outputs": [
        {
          "output_type": "execute_result",
          "data": {
            "application/vnd.google.colaboratory.intrinsic+json": {
              "type": "string"
            },
            "text/plain": [
              "'chjsbsac'"
            ]
          },
          "metadata": {
            "tags": []
          },
          "execution_count": 6
        }
      ]
    },
    {
      "cell_type": "code",
      "metadata": {
        "id": "uAM7l_11C-pn"
      },
      "source": [
        "first_user = users[0]"
      ],
      "execution_count": null,
      "outputs": []
    },
    {
      "cell_type": "code",
      "metadata": {
        "id": "9uKOY_4YDUSB",
        "colab": {
          "base_uri": "https://localhost:8080/",
          "height": 35
        },
        "outputId": "d5b1924c-53d1-49fb-c90b-9a350ef8a686"
      },
      "source": [
        "first_user"
      ],
      "execution_count": null,
      "outputs": [
        {
          "output_type": "execute_result",
          "data": {
            "application/vnd.google.colaboratory.intrinsic+json": {
              "type": "string"
            },
            "text/plain": [
              "'val'"
            ]
          },
          "metadata": {
            "tags": []
          },
          "execution_count": 8
        }
      ]
    },
    {
      "cell_type": "code",
      "metadata": {
        "id": "MuThmIwqDWhg"
      },
      "source": [
        "second_user = users[1]"
      ],
      "execution_count": null,
      "outputs": []
    },
    {
      "cell_type": "code",
      "metadata": {
        "id": "vDAP1VSBDZBh",
        "colab": {
          "base_uri": "https://localhost:8080/",
          "height": 35
        },
        "outputId": "76d1bea9-27e1-4b9e-bf92-bec74899100d"
      },
      "source": [
        "second_user"
      ],
      "execution_count": null,
      "outputs": [
        {
          "output_type": "execute_result",
          "data": {
            "application/vnd.google.colaboratory.intrinsic+json": {
              "type": "string"
            },
            "text/plain": [
              "'bob'"
            ]
          },
          "metadata": {
            "tags": []
          },
          "execution_count": 10
        }
      ]
    },
    {
      "cell_type": "code",
      "metadata": {
        "id": "CLqFLcgmDbvt"
      },
      "source": [
        "newest_user = users[-1]"
      ],
      "execution_count": null,
      "outputs": []
    },
    {
      "cell_type": "code",
      "metadata": {
        "id": "92jet68BDerF",
        "colab": {
          "base_uri": "https://localhost:8080/",
          "height": 35
        },
        "outputId": "e62e9a0f-bbf8-49b9-fd2d-031a5382b253"
      },
      "source": [
        "newest_user"
      ],
      "execution_count": null,
      "outputs": [
        {
          "output_type": "execute_result",
          "data": {
            "application/vnd.google.colaboratory.intrinsic+json": {
              "type": "string"
            },
            "text/plain": [
              "'chjsbsac'"
            ]
          },
          "metadata": {
            "tags": []
          },
          "execution_count": 12
        }
      ]
    },
    {
      "cell_type": "code",
      "metadata": {
        "id": "RMRBh2AXDgIe"
      },
      "source": [
        "users[0] = 'valerie'\n",
        "users[-2] = 'ronald'"
      ],
      "execution_count": null,
      "outputs": []
    },
    {
      "cell_type": "code",
      "metadata": {
        "id": "8RXYkMA2DmJ-",
        "colab": {
          "base_uri": "https://localhost:8080/",
          "height": 34
        },
        "outputId": "12e48847-bd30-497d-d1e3-45c66c042dec"
      },
      "source": [
        "users"
      ],
      "execution_count": null,
      "outputs": [
        {
          "output_type": "execute_result",
          "data": {
            "text/plain": [
              "['valerie', 'bob', 'mia', 'ron', 'ned', 'ronald', 'chjsbsac']"
            ]
          },
          "metadata": {
            "tags": []
          },
          "execution_count": 14
        }
      ]
    },
    {
      "cell_type": "code",
      "metadata": {
        "id": "vwv86UCiDnvp"
      },
      "source": [
        "users.append('amy')"
      ],
      "execution_count": null,
      "outputs": []
    },
    {
      "cell_type": "code",
      "metadata": {
        "id": "7yYuunaXD57l",
        "colab": {
          "base_uri": "https://localhost:8080/",
          "height": 34
        },
        "outputId": "0a74aae6-8782-4013-bbc2-b351b83decf2"
      },
      "source": [
        "users"
      ],
      "execution_count": null,
      "outputs": [
        {
          "output_type": "execute_result",
          "data": {
            "text/plain": [
              "['valerie', 'bob', 'mia', 'ron', 'ned', 'ronald', 'chjsbsac', 'amy']"
            ]
          },
          "metadata": {
            "tags": []
          },
          "execution_count": 16
        }
      ]
    },
    {
      "cell_type": "code",
      "metadata": {
        "id": "luNxt0o3D649"
      },
      "source": [
        "users = []\n",
        "users.append('val')\n",
        "users.append('bob')\n",
        "users.append('mia')"
      ],
      "execution_count": null,
      "outputs": []
    },
    {
      "cell_type": "code",
      "metadata": {
        "id": "Kty-a8moD_9I",
        "colab": {
          "base_uri": "https://localhost:8080/",
          "height": 34
        },
        "outputId": "d8e5c933-7044-41bc-9e0a-d6abff4362e5"
      },
      "source": [
        "users"
      ],
      "execution_count": null,
      "outputs": [
        {
          "output_type": "execute_result",
          "data": {
            "text/plain": [
              "['val', 'bob', 'mia']"
            ]
          },
          "metadata": {
            "tags": []
          },
          "execution_count": 18
        }
      ]
    },
    {
      "cell_type": "code",
      "metadata": {
        "id": "d1zWeeyLEBVB"
      },
      "source": [
        "users = []\n",
        "users.append('val')\n",
        "users.append('bob')\n",
        "users.append('mia')\n",
        "users.append('sid')"
      ],
      "execution_count": null,
      "outputs": []
    },
    {
      "cell_type": "code",
      "metadata": {
        "id": "kixpXD0oEGQG",
        "colab": {
          "base_uri": "https://localhost:8080/",
          "height": 34
        },
        "outputId": "c497f135-0e7b-47fa-b497-e9e0b684c6a0"
      },
      "source": [
        "users"
      ],
      "execution_count": null,
      "outputs": [
        {
          "output_type": "execute_result",
          "data": {
            "text/plain": [
              "['val', 'bob', 'mia', 'sid']"
            ]
          },
          "metadata": {
            "tags": []
          },
          "execution_count": 20
        }
      ]
    },
    {
      "cell_type": "code",
      "metadata": {
        "id": "qzC2U5k5EHGw"
      },
      "source": [
        "users.insert(0, 'joe')\n",
        "users.insert(3, 'bea')"
      ],
      "execution_count": null,
      "outputs": []
    },
    {
      "cell_type": "code",
      "metadata": {
        "id": "_SHTAjnZEKW9",
        "colab": {
          "base_uri": "https://localhost:8080/",
          "height": 34
        },
        "outputId": "7944ca4f-11d3-48c4-decf-64472be09117"
      },
      "source": [
        "users"
      ],
      "execution_count": null,
      "outputs": [
        {
          "output_type": "execute_result",
          "data": {
            "text/plain": [
              "['joe', 'val', 'bob', 'bea', 'mia', 'sid']"
            ]
          },
          "metadata": {
            "tags": []
          },
          "execution_count": 22
        }
      ]
    },
    {
      "cell_type": "code",
      "metadata": {
        "id": "hOZyJFO-EUWr"
      },
      "source": [
        "users.insert(5,'aru')"
      ],
      "execution_count": null,
      "outputs": []
    },
    {
      "cell_type": "code",
      "metadata": {
        "id": "n8JOvfmNEL9p",
        "colab": {
          "base_uri": "https://localhost:8080/",
          "height": 34
        },
        "outputId": "a442cc71-96cc-432a-ae43-576f52b3a2bd"
      },
      "source": [
        "users"
      ],
      "execution_count": null,
      "outputs": [
        {
          "output_type": "execute_result",
          "data": {
            "text/plain": [
              "['joe', 'val', 'bob', 'bea', 'mia', 'aru', 'sid']"
            ]
          },
          "metadata": {
            "tags": []
          },
          "execution_count": 24
        }
      ]
    },
    {
      "cell_type": "code",
      "metadata": {
        "id": "GOdXrwHWEbUV"
      },
      "source": [
        "del users[-1]"
      ],
      "execution_count": null,
      "outputs": []
    },
    {
      "cell_type": "code",
      "metadata": {
        "id": "QL60LZDAEfjI",
        "colab": {
          "base_uri": "https://localhost:8080/",
          "height": 34
        },
        "outputId": "be9f1bdf-c737-49ec-db4b-a7f83cb10471"
      },
      "source": [
        "users"
      ],
      "execution_count": null,
      "outputs": [
        {
          "output_type": "execute_result",
          "data": {
            "text/plain": [
              "['joe', 'val', 'bob', 'bea', 'mia', 'aru']"
            ]
          },
          "metadata": {
            "tags": []
          },
          "execution_count": 26
        }
      ]
    },
    {
      "cell_type": "code",
      "metadata": {
        "id": "L3MlT9uAEgyW"
      },
      "source": [
        "users.remove('mia')"
      ],
      "execution_count": null,
      "outputs": []
    },
    {
      "cell_type": "code",
      "metadata": {
        "id": "0cbZG_IvEkW0",
        "colab": {
          "base_uri": "https://localhost:8080/",
          "height": 34
        },
        "outputId": "0cf0c4f0-8120-449a-f81a-26394fb982a9"
      },
      "source": [
        "users"
      ],
      "execution_count": null,
      "outputs": [
        {
          "output_type": "execute_result",
          "data": {
            "text/plain": [
              "['joe', 'val', 'bob', 'bea', 'mia']"
            ]
          },
          "metadata": {
            "tags": []
          },
          "execution_count": 35
        }
      ]
    },
    {
      "cell_type": "code",
      "metadata": {
        "id": "fDgeQ3fPEljS"
      },
      "source": [
        "users.append('mia')"
      ],
      "execution_count": null,
      "outputs": []
    },
    {
      "cell_type": "code",
      "metadata": {
        "id": "I-1FRXHEEnx1",
        "colab": {
          "base_uri": "https://localhost:8080/",
          "height": 34
        },
        "outputId": "6823f209-f2ea-490b-f6a6-e1a355a87d18"
      },
      "source": [
        "users"
      ],
      "execution_count": null,
      "outputs": [
        {
          "output_type": "execute_result",
          "data": {
            "text/plain": [
              "['joe', 'val', 'bob', 'bea', 'mia', 'mia']"
            ]
          },
          "metadata": {
            "tags": []
          },
          "execution_count": 39
        }
      ]
    },
    {
      "cell_type": "code",
      "metadata": {
        "id": "5tms5DWXE5bQ"
      },
      "source": [
        "users.remove('mia')"
      ],
      "execution_count": null,
      "outputs": []
    },
    {
      "cell_type": "code",
      "metadata": {
        "id": "nkKrCYCzFAPN",
        "colab": {
          "base_uri": "https://localhost:8080/",
          "height": 34
        },
        "outputId": "59b090a7-9e7f-4c55-c914-ee482d6fb352"
      },
      "source": [
        "users"
      ],
      "execution_count": null,
      "outputs": [
        {
          "output_type": "execute_result",
          "data": {
            "text/plain": [
              "['joe', 'val', 'bob', 'bea']"
            ]
          },
          "metadata": {
            "tags": []
          },
          "execution_count": 43
        }
      ]
    },
    {
      "cell_type": "code",
      "metadata": {
        "id": "jUTGIrqKFBPo",
        "colab": {
          "base_uri": "https://localhost:8080/",
          "height": 34
        },
        "outputId": "3ff38c8b-f32c-4ebc-81c5-d65b93849001"
      },
      "source": [
        "most_recent_user = users.pop()\n",
        "print(most_recent_user)"
      ],
      "execution_count": null,
      "outputs": [
        {
          "output_type": "stream",
          "text": [
            "bea\n"
          ],
          "name": "stdout"
        }
      ]
    },
    {
      "cell_type": "code",
      "metadata": {
        "id": "1cuZyI7oFhHn",
        "colab": {
          "base_uri": "https://localhost:8080/",
          "height": 34
        },
        "outputId": "734d22e4-7d0c-43e5-c451-6c52950154e9"
      },
      "source": [
        "most_recent_user = users.pop()\n",
        "print(most_recent_user)"
      ],
      "execution_count": null,
      "outputs": [
        {
          "output_type": "stream",
          "text": [
            "bob\n"
          ],
          "name": "stdout"
        }
      ]
    },
    {
      "cell_type": "code",
      "metadata": {
        "id": "ki4uvWOkFsoE",
        "colab": {
          "base_uri": "https://localhost:8080/",
          "height": 34
        },
        "outputId": "ab86eacf-4fcb-489a-b92d-6631f252cb74"
      },
      "source": [
        "users"
      ],
      "execution_count": null,
      "outputs": [
        {
          "output_type": "execute_result",
          "data": {
            "text/plain": [
              "['joe', 'val']"
            ]
          },
          "metadata": {
            "tags": []
          },
          "execution_count": 46
        }
      ]
    },
    {
      "cell_type": "code",
      "metadata": {
        "id": "cc2tONL_FtnP",
        "colab": {
          "base_uri": "https://localhost:8080/",
          "height": 34
        },
        "outputId": "a428be1d-018c-4c92-987b-934520abe33c"
      },
      "source": [
        "first_user = users.pop(0)\n",
        "print(first_user)"
      ],
      "execution_count": null,
      "outputs": [
        {
          "output_type": "stream",
          "text": [
            "joe\n"
          ],
          "name": "stdout"
        }
      ]
    },
    {
      "cell_type": "code",
      "metadata": {
        "id": "X8_BxfXJFxSg",
        "colab": {
          "base_uri": "https://localhost:8080/",
          "height": 34
        },
        "outputId": "93193dfd-cdb8-4bb8-b753-f1a61b1202f6"
      },
      "source": [
        "users"
      ],
      "execution_count": null,
      "outputs": [
        {
          "output_type": "execute_result",
          "data": {
            "text/plain": [
              "['val']"
            ]
          },
          "metadata": {
            "tags": []
          },
          "execution_count": 48
        }
      ]
    },
    {
      "cell_type": "code",
      "metadata": {
        "id": "2BdCIuNgFylT"
      },
      "source": [
        "\n",
        "users.append('val')\n",
        "users.append('bob')\n",
        "users.append('mia')\n",
        "users.append('sid')"
      ],
      "execution_count": null,
      "outputs": []
    },
    {
      "cell_type": "code",
      "metadata": {
        "id": "z99PIhCIF4j3",
        "colab": {
          "base_uri": "https://localhost:8080/",
          "height": 34
        },
        "outputId": "b7c0bdea-ba2b-416a-9367-0822bcfbb879"
      },
      "source": [
        "users"
      ],
      "execution_count": null,
      "outputs": [
        {
          "output_type": "execute_result",
          "data": {
            "text/plain": [
              "['val', 'val', 'bob', 'mia', 'sid']"
            ]
          },
          "metadata": {
            "tags": []
          },
          "execution_count": 50
        }
      ]
    },
    {
      "cell_type": "code",
      "metadata": {
        "id": "R3lWJhhgF6xC",
        "colab": {
          "base_uri": "https://localhost:8080/",
          "height": 34
        },
        "outputId": "b4e8bd5e-e95c-4192-9d76-2223c5ecf723"
      },
      "source": [
        "first_user = users.pop(1)\n",
        "print(first_user)"
      ],
      "execution_count": null,
      "outputs": [
        {
          "output_type": "stream",
          "text": [
            "val\n"
          ],
          "name": "stdout"
        }
      ]
    },
    {
      "cell_type": "code",
      "metadata": {
        "id": "qUbe7Gd0F-za",
        "colab": {
          "base_uri": "https://localhost:8080/",
          "height": 34
        },
        "outputId": "25cb57b4-638a-4dbb-e9bd-63ea48b5b70f"
      },
      "source": [
        "len(users)"
      ],
      "execution_count": null,
      "outputs": [
        {
          "output_type": "execute_result",
          "data": {
            "text/plain": [
              "4"
            ]
          },
          "metadata": {
            "tags": []
          },
          "execution_count": 52
        }
      ]
    },
    {
      "cell_type": "code",
      "metadata": {
        "id": "symqzOuuGOCW",
        "colab": {
          "base_uri": "https://localhost:8080/",
          "height": 34
        },
        "outputId": "13d5d109-2948-4f5f-cf7a-6376b918f3c5"
      },
      "source": [
        "num_users = len(users)\n",
        "print(\"We have \" + str(num_users) + \" users.\")"
      ],
      "execution_count": null,
      "outputs": [
        {
          "output_type": "stream",
          "text": [
            "We have 4 users.\n"
          ],
          "name": "stdout"
        }
      ]
    },
    {
      "cell_type": "code",
      "metadata": {
        "id": "xlzvay8nGTpR"
      },
      "source": [
        "users.sort()"
      ],
      "execution_count": null,
      "outputs": []
    },
    {
      "cell_type": "code",
      "metadata": {
        "id": "6lRXNcC7HAWW",
        "colab": {
          "base_uri": "https://localhost:8080/",
          "height": 34
        },
        "outputId": "1eeb6e84-37bb-4699-e436-877456032c45"
      },
      "source": [
        "users"
      ],
      "execution_count": null,
      "outputs": [
        {
          "output_type": "execute_result",
          "data": {
            "text/plain": [
              "['bob', 'mia', 'sid', 'val']"
            ]
          },
          "metadata": {
            "tags": []
          },
          "execution_count": 55
        }
      ]
    },
    {
      "cell_type": "code",
      "metadata": {
        "id": "7tzZxPtsHCbJ"
      },
      "source": [
        "users.sort(reverse=True)"
      ],
      "execution_count": null,
      "outputs": []
    },
    {
      "cell_type": "code",
      "metadata": {
        "id": "O-fueV8IHGdH",
        "colab": {
          "base_uri": "https://localhost:8080/",
          "height": 34
        },
        "outputId": "3771f9a0-2779-4cfe-acae-ea1f58d3d24f"
      },
      "source": [
        "users"
      ],
      "execution_count": null,
      "outputs": [
        {
          "output_type": "execute_result",
          "data": {
            "text/plain": [
              "['val', 'sid', 'mia', 'bob']"
            ]
          },
          "metadata": {
            "tags": []
          },
          "execution_count": 57
        }
      ]
    },
    {
      "cell_type": "code",
      "metadata": {
        "id": "bPlGz9iAHHsE",
        "colab": {
          "base_uri": "https://localhost:8080/",
          "height": 50
        },
        "outputId": "a3b2cfdf-7b01-4ec3-e992-9b3108ce0c6c"
      },
      "source": [
        "print(sorted(users))\n",
        "print(sorted(users, reverse=True))"
      ],
      "execution_count": null,
      "outputs": [
        {
          "output_type": "stream",
          "text": [
            "['bob', 'mia', 'sid', 'val']\n",
            "['val', 'sid', 'mia', 'bob']\n"
          ],
          "name": "stdout"
        }
      ]
    },
    {
      "cell_type": "code",
      "metadata": {
        "id": "YOPFd05wHVvC"
      },
      "source": [
        "\n",
        "users.append('val')\n",
        "users.append('bob')\n",
        "users.append('mia')\n",
        "users.append('sid')"
      ],
      "execution_count": null,
      "outputs": []
    },
    {
      "cell_type": "code",
      "metadata": {
        "id": "Dssd4Oq_HZat",
        "colab": {
          "base_uri": "https://localhost:8080/",
          "height": 34
        },
        "outputId": "3dff6ea7-7f46-4e4d-db61-f0148994af7f"
      },
      "source": [
        "users"
      ],
      "execution_count": null,
      "outputs": [
        {
          "output_type": "execute_result",
          "data": {
            "text/plain": [
              "['val', 'sid', 'mia', 'bob', 'val', 'bob', 'mia', 'sid']"
            ]
          },
          "metadata": {
            "tags": []
          },
          "execution_count": 64
        }
      ]
    },
    {
      "cell_type": "code",
      "metadata": {
        "id": "b2OycHb5H8qD",
        "colab": {
          "base_uri": "https://localhost:8080/",
          "height": 50
        },
        "outputId": "6a25b9f5-837e-4acf-e454-44385fb1bba9"
      },
      "source": [
        "print(sorted(users))\n",
        "print(sorted(users,reverse=True))"
      ],
      "execution_count": null,
      "outputs": [
        {
          "output_type": "stream",
          "text": [
            "['bob', 'bob', 'mia', 'mia', 'sid', 'sid', 'val', 'val']\n",
            "['val', 'val', 'sid', 'sid', 'mia', 'mia', 'bob', 'bob']\n"
          ],
          "name": "stdout"
        }
      ]
    },
    {
      "cell_type": "code",
      "metadata": {
        "id": "RZGfhdZXIvVj",
        "colab": {
          "base_uri": "https://localhost:8080/",
          "height": 35
        },
        "outputId": "2405081e-1682-4471-cf07-dacd90ca0d83"
      },
      "source": [
        "user"
      ],
      "execution_count": null,
      "outputs": [
        {
          "output_type": "execute_result",
          "data": {
            "application/vnd.google.colaboratory.intrinsic+json": {
              "type": "string"
            },
            "text/plain": [
              "'sid'"
            ]
          },
          "metadata": {
            "tags": []
          },
          "execution_count": 69
        }
      ]
    },
    {
      "cell_type": "code",
      "metadata": {
        "id": "qp4ey5gcJ_60",
        "colab": {
          "base_uri": "https://localhost:8080/",
          "height": 35
        },
        "outputId": "9ffea6f2-0090-4cdf-eb24-d2fd7a13f375"
      },
      "source": [
        "user"
      ],
      "execution_count": null,
      "outputs": [
        {
          "output_type": "execute_result",
          "data": {
            "application/vnd.google.colaboratory.intrinsic+json": {
              "type": "string"
            },
            "text/plain": [
              "'sid'"
            ]
          },
          "metadata": {
            "tags": []
          },
          "execution_count": 70
        }
      ]
    },
    {
      "cell_type": "code",
      "metadata": {
        "id": "aNDASUllP_4Q"
      },
      "source": [
        "users = ['val', 'bob', 'mia', 'ron', 'ned']"
      ],
      "execution_count": null,
      "outputs": []
    },
    {
      "cell_type": "code",
      "metadata": {
        "id": "YilAKPL8Qfkb",
        "colab": {
          "base_uri": "https://localhost:8080/",
          "height": 101
        },
        "outputId": "1101d2b2-5d10-4674-e239-a1a72035c826"
      },
      "source": [
        "for user in users:\n",
        "  print(user)"
      ],
      "execution_count": null,
      "outputs": [
        {
          "output_type": "stream",
          "text": [
            "val\n",
            "bob\n",
            "mia\n",
            "ron\n",
            "ned\n"
          ],
          "name": "stdout"
        }
      ]
    },
    {
      "cell_type": "code",
      "metadata": {
        "id": "W517hC39QjHv"
      },
      "source": [
        "users.append('sid')"
      ],
      "execution_count": null,
      "outputs": []
    },
    {
      "cell_type": "code",
      "metadata": {
        "id": "0vuyTnMoQmWI",
        "colab": {
          "base_uri": "https://localhost:8080/",
          "height": 34
        },
        "outputId": "7dea878c-ad76-4c3d-dca0-e28b0bca1ab6"
      },
      "source": [
        "users"
      ],
      "execution_count": null,
      "outputs": [
        {
          "output_type": "execute_result",
          "data": {
            "text/plain": [
              "['val', 'bob', 'mia', 'ron', 'ned', 'sid']"
            ]
          },
          "metadata": {
            "tags": []
          },
          "execution_count": 9
        }
      ]
    },
    {
      "cell_type": "code",
      "metadata": {
        "id": "S8RTMLw-QqP2",
        "colab": {
          "base_uri": "https://localhost:8080/",
          "height": 118
        },
        "outputId": "9e59fe3b-f9cd-4b84-d1aa-cb37eaad8831"
      },
      "source": [
        "for user in users:\n",
        "  print(user)"
      ],
      "execution_count": null,
      "outputs": [
        {
          "output_type": "stream",
          "text": [
            "val\n",
            "bob\n",
            "mia\n",
            "ron\n",
            "ned\n",
            "sid\n"
          ],
          "name": "stdout"
        }
      ]
    },
    {
      "cell_type": "code",
      "metadata": {
        "id": "iwzl9kCnQv_F",
        "colab": {
          "base_uri": "https://localhost:8080/",
          "height": 134
        },
        "outputId": "2ee0658e-f604-4978-a8df-551e382ba865"
      },
      "source": [
        "for user in users:\n",
        "  print(\"Welcome, \" + user + \"!\")\n",
        "print(\"Welcome, we're glad to see you all!\")"
      ],
      "execution_count": null,
      "outputs": [
        {
          "output_type": "stream",
          "text": [
            "Welcome, val!\n",
            "Welcome, bob!\n",
            "Welcome, mia!\n",
            "Welcome, ron!\n",
            "Welcome, ned!\n",
            "Welcome, sid!\n",
            "Welcome, we're glad to see you all!\n"
          ],
          "name": "stdout"
        }
      ]
    },
    {
      "cell_type": "code",
      "metadata": {
        "id": "PHbdAR1yQ1c5",
        "colab": {
          "base_uri": "https://localhost:8080/",
          "height": 134
        },
        "outputId": "50fe5f3b-ad4f-4a64-e010-6f84d87da48c"
      },
      "source": [
        "users = ['hlo','hi','bye','sid','loki','de']\n",
        "for user in users:\n",
        "  print(\"plz, welcome \" +  user  + \"! \")\n",
        "print(\"welocme!, all of u\")  "
      ],
      "execution_count": null,
      "outputs": [
        {
          "output_type": "stream",
          "text": [
            "plz, welcome hlo! \n",
            "plz, welcome hi! \n",
            "plz, welcome bye! \n",
            "plz, welcome sid! \n",
            "plz, welcome loki! \n",
            "plz, welcome de! \n",
            "welocme!, all of u\n"
          ],
          "name": "stdout"
        }
      ]
    },
    {
      "cell_type": "code",
      "metadata": {
        "id": "AI5Tf3feSoQx",
        "colab": {
          "base_uri": "https://localhost:8080/",
          "height": 202
        },
        "outputId": "29bf8abc-a3a7-4ad3-c4e1-d3dba6a8d8ab"
      },
      "source": [
        "for number in range(11):\n",
        "  print(number)"
      ],
      "execution_count": null,
      "outputs": [
        {
          "output_type": "stream",
          "text": [
            "0\n",
            "1\n",
            "2\n",
            "3\n",
            "4\n",
            "5\n",
            "6\n",
            "7\n",
            "8\n",
            "9\n",
            "10\n"
          ],
          "name": "stdout"
        }
      ]
    },
    {
      "cell_type": "code",
      "metadata": {
        "id": "UkvOfOxPSx-G",
        "colab": {
          "base_uri": "https://localhost:8080/",
          "height": 34
        },
        "outputId": "e14a1601-428d-47a4-f49c-f0c687ad6728"
      },
      "source": [
        "range(10)"
      ],
      "execution_count": null,
      "outputs": [
        {
          "output_type": "execute_result",
          "data": {
            "text/plain": [
              "range(0, 10)"
            ]
          },
          "metadata": {
            "tags": []
          },
          "execution_count": 22
        }
      ]
    },
    {
      "cell_type": "code",
      "metadata": {
        "id": "dMzJOkznS2O5",
        "colab": {
          "base_uri": "https://localhost:8080/",
          "height": 185
        },
        "outputId": "71ac8b78-f13d-4857-907a-f6f9ef1cc1cc"
      },
      "source": [
        "for number in range(1, 11):\n",
        "  print(number)"
      ],
      "execution_count": null,
      "outputs": [
        {
          "output_type": "stream",
          "text": [
            "1\n",
            "2\n",
            "3\n",
            "4\n",
            "5\n",
            "6\n",
            "7\n",
            "8\n",
            "9\n",
            "10\n"
          ],
          "name": "stdout"
        }
      ]
    },
    {
      "cell_type": "code",
      "metadata": {
        "id": "VznNT_O4TsdT"
      },
      "source": [
        "ages = [93, 99, 66, 17, 85, 1, 35, 82, 2, 77]\n",
        "youngest = min(ages)"
      ],
      "execution_count": null,
      "outputs": []
    },
    {
      "cell_type": "code",
      "metadata": {
        "id": "OnvYzeudUBEN",
        "colab": {
          "base_uri": "https://localhost:8080/",
          "height": 34
        },
        "outputId": "86e4820d-2a54-4054-f4c4-0f23bd24cc46"
      },
      "source": [
        "youngest"
      ],
      "execution_count": null,
      "outputs": [
        {
          "output_type": "execute_result",
          "data": {
            "text/plain": [
              "1"
            ]
          },
          "metadata": {
            "tags": []
          },
          "execution_count": 26
        }
      ]
    },
    {
      "cell_type": "code",
      "metadata": {
        "id": "zhB-o6hFUlsp"
      },
      "source": [
        "ages = [93, 99, 66, 17, 85, 1, 35, 82, 2, 77]\n",
        "oldest = max(ages)"
      ],
      "execution_count": null,
      "outputs": []
    },
    {
      "cell_type": "code",
      "metadata": {
        "id": "gDGnpwZqU83k",
        "colab": {
          "base_uri": "https://localhost:8080/",
          "height": 34
        },
        "outputId": "cf8435cd-994e-480a-f4b3-96b612d72f75"
      },
      "source": [
        "oldest"
      ],
      "execution_count": null,
      "outputs": [
        {
          "output_type": "execute_result",
          "data": {
            "text/plain": [
              "99"
            ]
          },
          "metadata": {
            "tags": []
          },
          "execution_count": 30
        }
      ]
    },
    {
      "cell_type": "code",
      "metadata": {
        "id": "w9WYsaIpU-np",
        "colab": {
          "base_uri": "https://localhost:8080/",
          "height": 34
        },
        "outputId": "f0e8528e-2b6c-47dd-886b-1651ed42f52b"
      },
      "source": [
        "ages = [93, 99, 66, 17, 85, 1, 35, 82, 2, 77]\n",
        "print(sum(ages))"
      ],
      "execution_count": null,
      "outputs": [
        {
          "output_type": "stream",
          "text": [
            "557\n"
          ],
          "name": "stdout"
        }
      ]
    },
    {
      "cell_type": "code",
      "metadata": {
        "id": "GZEqomJqVOk6",
        "colab": {
          "base_uri": "https://localhost:8080/",
          "height": 34
        },
        "outputId": "c6882c92-c39f-404e-9e5b-5840444f6ae2"
      },
      "source": [
        "ages = [93, 99, 66, 17, 85, 1, 35, 82, 2, 77]\n",
        "total_years = sum(ages)\n",
        "total_years"
      ],
      "execution_count": null,
      "outputs": [
        {
          "output_type": "execute_result",
          "data": {
            "text/plain": [
              "557"
            ]
          },
          "metadata": {
            "tags": []
          },
          "execution_count": 32
        }
      ]
    },
    {
      "cell_type": "code",
      "metadata": {
        "id": "rN6jAkLLVVAt",
        "colab": {
          "base_uri": "https://localhost:8080/",
          "height": 34
        },
        "outputId": "8be58d21-bb80-4a99-9d6e-e733216dd6cb"
      },
      "source": [
        "finishers = ['kai', 'abe', 'ada', 'gus', 'zoe']\n",
        "first_three = finishers[:3]\n",
        "first_three"
      ],
      "execution_count": null,
      "outputs": [
        {
          "output_type": "execute_result",
          "data": {
            "text/plain": [
              "['kai', 'abe', 'ada']"
            ]
          },
          "metadata": {
            "tags": []
          },
          "execution_count": 33
        }
      ]
    },
    {
      "cell_type": "code",
      "metadata": {
        "id": "5kWLq-AeV2XG",
        "colab": {
          "base_uri": "https://localhost:8080/",
          "height": 34
        },
        "outputId": "da37a310-8c83-449f-a9cd-dfc6637c8565"
      },
      "source": [
        "middle_three = finishers[1:4]\n",
        "middle_three\n"
      ],
      "execution_count": null,
      "outputs": [
        {
          "output_type": "execute_result",
          "data": {
            "text/plain": [
              "['abe', 'ada', 'gus']"
            ]
          },
          "metadata": {
            "tags": []
          },
          "execution_count": 34
        }
      ]
    },
    {
      "cell_type": "code",
      "metadata": {
        "id": "zJjpKbuJXG6u",
        "colab": {
          "base_uri": "https://localhost:8080/",
          "height": 34
        },
        "outputId": "65ec0893-c3a4-4e1d-acd5-c929f1f072db"
      },
      "source": [
        "last_three = finishers[-3:]\n",
        "last_three"
      ],
      "execution_count": null,
      "outputs": [
        {
          "output_type": "execute_result",
          "data": {
            "text/plain": [
              "['ada', 'gus', 'zoe']"
            ]
          },
          "metadata": {
            "tags": []
          },
          "execution_count": 35
        }
      ]
    },
    {
      "cell_type": "code",
      "metadata": {
        "id": "UaSMRzXhXMvf",
        "colab": {
          "base_uri": "https://localhost:8080/",
          "height": 34
        },
        "outputId": "debf62ea-a83f-48b7-ac7d-3f4ca35da8dd"
      },
      "source": [
        "finishers = ['kai', 'abe', 'ada', 'gus', 'zoe']\n",
        "copy_of_finishers = finishers[:]\n",
        "copy_of_finishers"
      ],
      "execution_count": null,
      "outputs": [
        {
          "output_type": "execute_result",
          "data": {
            "text/plain": [
              "['kai', 'abe', 'ada', 'gus', 'zoe']"
            ]
          },
          "metadata": {
            "tags": []
          },
          "execution_count": 36
        }
      ]
    },
    {
      "cell_type": "code",
      "metadata": {
        "id": "HNmP3ngeXYLP"
      },
      "source": [
        "finishers = ['kai', 'abe', 'ada', 'gus', 'zoe']\n",
        "copy_of_finishers = finishers[:4]"
      ],
      "execution_count": null,
      "outputs": []
    },
    {
      "cell_type": "code",
      "metadata": {
        "id": "h3wmTVqkXa_i",
        "colab": {
          "base_uri": "https://localhost:8080/",
          "height": 34
        },
        "outputId": "743906be-0835-4b1e-b8e3-6234ff91a75b"
      },
      "source": [
        "copy_of_finishers"
      ],
      "execution_count": null,
      "outputs": [
        {
          "output_type": "execute_result",
          "data": {
            "text/plain": [
              "['kai', 'abe', 'ada', 'gus']"
            ]
          },
          "metadata": {
            "tags": []
          },
          "execution_count": 38
        }
      ]
    },
    {
      "cell_type": "code",
      "metadata": {
        "id": "Fj57zBwOXdgf",
        "colab": {
          "base_uri": "https://localhost:8080/",
          "height": 34
        },
        "outputId": "60d4ab0c-8567-4bcb-8a7c-466ece29d51a"
      },
      "source": [
        "squares = []\n",
        "for x in range(1, 11):\n",
        "  square = x**2\n",
        "  squares.append(square)\n",
        "squares\n"
      ],
      "execution_count": null,
      "outputs": [
        {
          "output_type": "execute_result",
          "data": {
            "text/plain": [
              "[1, 4, 9, 16, 25, 36, 49, 64, 81, 100]"
            ]
          },
          "metadata": {
            "tags": []
          },
          "execution_count": 45
        }
      ]
    },
    {
      "cell_type": "code",
      "metadata": {
        "id": "zCb4xEQcaZMW",
        "colab": {
          "base_uri": "https://localhost:8080/",
          "height": 34
        },
        "outputId": "d5988bf5-acfd-44ec-f6a7-b1745c7450d9"
      },
      "source": [
        "squares =[x**3 for x in range(1,11)]\n",
        "squares"
      ],
      "execution_count": null,
      "outputs": [
        {
          "output_type": "execute_result",
          "data": {
            "text/plain": [
              "[1, 8, 27, 64, 125, 216, 343, 512, 729, 1000]"
            ]
          },
          "metadata": {
            "tags": []
          },
          "execution_count": 50
        }
      ]
    },
    {
      "cell_type": "code",
      "metadata": {
        "id": "krReMVu7bVfu"
      },
      "source": [
        "names = ['kai', 'abe', 'ada', 'gus', 'zoe']\n",
        "upper_names = []\n",
        "for name in names:\n",
        "  upper_names.append(name.upper())\n"
      ],
      "execution_count": null,
      "outputs": []
    },
    {
      "cell_type": "code",
      "metadata": {
        "id": "hyJsLxUGbj6Z",
        "colab": {
          "base_uri": "https://localhost:8080/",
          "height": 34
        },
        "outputId": "b74d405a-6a30-465d-90e5-84aecce270d1"
      },
      "source": [
        "upper_names"
      ],
      "execution_count": null,
      "outputs": [
        {
          "output_type": "execute_result",
          "data": {
            "text/plain": [
              "['KAI', 'ABE', 'ADA', 'GUS', 'ZOE']"
            ]
          },
          "metadata": {
            "tags": []
          },
          "execution_count": 61
        }
      ]
    },
    {
      "cell_type": "code",
      "metadata": {
        "id": "s8Oo2w38cUI-",
        "colab": {
          "base_uri": "https://localhost:8080/",
          "height": 34
        },
        "outputId": "ec105290-6b29-4428-a297-a2f406bb9424"
      },
      "source": [
        "names = ['kai', 'abe', 'ada', 'gus', 'zoe']\n",
        "upper_names = [name.upper() for name in names]\n",
        "upper_names"
      ],
      "execution_count": null,
      "outputs": [
        {
          "output_type": "execute_result",
          "data": {
            "text/plain": [
              "['KAI', 'ABE', 'ADA', 'GUS', 'ZOE']"
            ]
          },
          "metadata": {
            "tags": []
          },
          "execution_count": 63
        }
      ]
    },
    {
      "cell_type": "code",
      "metadata": {
        "id": "Eej_5VOff4nX"
      },
      "source": [
        "dimensions = (800, 600)"
      ],
      "execution_count": null,
      "outputs": []
    },
    {
      "cell_type": "code",
      "metadata": {
        "id": "j12X8sPfgCJx"
      },
      "source": [
        ""
      ],
      "execution_count": null,
      "outputs": []
    }
  ]
}